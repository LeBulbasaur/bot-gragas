{
 "cells": [
  {
   "cell_type": "markdown",
   "metadata": {
    "id": "IsNAaYAo0WVL"
   },
   "source": [
    "# bot-gragas league bot project"
   ]
  },
  {
   "cell_type": "code",
   "execution_count": 1,
   "metadata": {},
   "outputs": [],
   "source": [
    "import os\n",
    "import cv2\n",
    "import numpy as np\n",
    "import tensorflow as tf\n",
    "import speech_recognition as sr\n",
    "from time import time\n",
    "from PIL import Image\n",
    "from mss import mss\n",
    "from ahk import AHK\n",
    "from object_detection.utils import label_map_util\n",
    "from object_detection.utils import visualization_utils as viz_utils\n",
    "from object_detection.builders import model_builder\n",
    "from object_detection.utils import config_util"
   ]
  },
  {
   "cell_type": "markdown",
   "metadata": {},
   "source": [
    "# 1. Initialize [AutoHotKey](https://pypi.org/project/ahk/) and [Multiple Screen Shots](https://python-mss.readthedocs.io/) libraries"
   ]
  },
  {
   "cell_type": "code",
   "execution_count": 2,
   "metadata": {},
   "outputs": [],
   "source": [
    "ahk = AHK()\n",
    "sct = mss()"
   ]
  },
  {
   "cell_type": "markdown",
   "metadata": {},
   "source": [
    "# 2. Enter trained model name and window size parameters"
   ]
  },
  {
   "cell_type": "code",
   "execution_count": 3,
   "metadata": {},
   "outputs": [],
   "source": [
    "model = \"gragasnunuv2\"\n",
    "mon = {'top': 0, 'left': 0, 'width': 1280, 'height': 720}"
   ]
  },
  {
   "cell_type": "markdown",
   "metadata": {},
   "source": [
    "# 3. Load config file and build a detection model"
   ]
  },
  {
   "cell_type": "code",
   "execution_count": 4,
   "metadata": {},
   "outputs": [],
   "source": [
    "configs = config_util.get_configs_from_pipeline_file(os.path.join('models', model, 'pipeline.config'))\n",
    "detection_model = model_builder.build(model_config=configs['model'], is_training=False)\n",
    "ckpt = tf.compat.v2.train.Checkpoint(model=detection_model)\n",
    "ckpt.restore(os.path.join('models', model, 'ckpt-4')).expect_partial()\n",
    "\n",
    "category_index = label_map_util.create_category_index_from_labelmap(os.path.join('annotations', 'label_map.pbtxt'))"
   ]
  },
  {
   "cell_type": "markdown",
   "metadata": {},
   "source": [
    "# 4. Define function for object detection"
   ]
  },
  {
   "cell_type": "code",
   "execution_count": 5,
   "metadata": {},
   "outputs": [],
   "source": [
    "@tf.function\n",
    "def detect_fn(image):\n",
    "    image, shapes = detection_model.preprocess(image)\n",
    "    prediction_dict = detection_model.predict(image, shapes)\n",
    "    detections = detection_model.postprocess(prediction_dict, shapes)\n",
    "    return detections"
   ]
  },
  {
   "cell_type": "markdown",
   "metadata": {},
   "source": [
    "# 5. Algorithm for finding  on screen coordinates of an object with given index\n",
    "<br>\n",
    "&emsp; Filter array of detected objects for an element with given id, than calculate where the middle point is using passed coordinates."
   ]
  },
  {
   "cell_type": "code",
   "execution_count": 6,
   "metadata": {},
   "outputs": [],
   "source": [
    "def handleCoords(boxes, index):\n",
    "    filtered_arr = [i for i in boxes if i.index == index]\n",
    "    coords = filtered_arr[0].coordinates\n",
    "    \n",
    "    ymin = coords[0] * 720\n",
    "    xmin = coords[1] * 1280\n",
    "    ymax = coords[2] * 720\n",
    "    xmax = coords[3] * 1280\n",
    "\n",
    "    midWidth = xmin + (xmax - xmin) / 2\n",
    "    midHeight = ymin + (ymax - ymin) / 2\n",
    "    \n",
    "    return midWidth, midHeight"
   ]
  },
  {
   "cell_type": "markdown",
   "metadata": {},
   "source": [
    "# 6. Define functions containing game actions"
   ]
  },
  {
   "cell_type": "code",
   "execution_count": 7,
   "metadata": {},
   "outputs": [],
   "source": [
    "def shotEnemy(boxes, index):\n",
    "    print(\"shooting\")\n",
    "    midWidth, midHeight = handleCoords(boxes, index)\n",
    "    ahk.mouse_move(midWidth, midHeight)\n",
    "    ahk.key_press(\"q\")"
   ]
  },
  {
   "cell_type": "code",
   "execution_count": 8,
   "metadata": {},
   "outputs": [],
   "source": [
    "def jumpToAlly(boxes, index):\n",
    "    print(\"jumping\")\n",
    "    midWidth, midHeight = handleCoords(boxes, index)\n",
    "    ahk.mouse_move(midWidth, midHeight)\n",
    "    ahk.key_press(\"w\")"
   ]
  },
  {
   "cell_type": "code",
   "execution_count": 9,
   "metadata": {},
   "outputs": [],
   "source": [
    "def healAlly():\n",
    "    print(\"healing\")\n",
    "    ahk.key_press(\"e\")"
   ]
  },
  {
   "cell_type": "code",
   "execution_count": 10,
   "metadata": {},
   "outputs": [],
   "source": [
    "def ultimateEnemy(boxes, index):\n",
    "    print(\"casting ultimate\")\n",
    "    midWidth, midHeight = handleCoords(boxes, index)\n",
    "    ahk.mouse_move(midWidth, midHeight)\n",
    "    ahk.key_press(\"r\")"
   ]
  },
  {
   "cell_type": "code",
   "execution_count": 11,
   "metadata": {},
   "outputs": [],
   "source": [
    "def igniteEnemy(boxes, index):\n",
    "    print(\"casting spell ignite\")\n",
    "    midWidth, midHeight = handleCoords(boxes, index)\n",
    "    ahk.mouse_move(midWidth, midHeight)\n",
    "    ahk.key_press(\"d\")"
   ]
  },
  {
   "cell_type": "code",
   "execution_count": 12,
   "metadata": {},
   "outputs": [],
   "source": [
    "def exhaustEnemy(boxes, index):\n",
    "    print(\"casting spell exhaust\")\n",
    "    midWidth, midHeight = handleCoords(boxes, index)\n",
    "    ahk.mouse_move(midWidth, midHeight)\n",
    "    ahk.key_press(\"f\")"
   ]
  },
  {
   "cell_type": "code",
   "execution_count": 13,
   "metadata": {},
   "outputs": [],
   "source": [
    "def buyItem(item):\n",
    "    print(f\"casting buying {item}\")\n",
    "    ahk.key_press(\"p\")\n",
    "    ahk.mouse_move(400, 135)\n",
    "    ahk.click()\n",
    "    ahk.type(item)\n",
    "    ahk.key_press(\"Enter\")\n",
    "    ahk.mouse_move(890, 250)\n",
    "    ahk.click()\n",
    "    ahk.key_press(\"p\")"
   ]
  },
  {
   "cell_type": "code",
   "execution_count": 14,
   "metadata": {},
   "outputs": [],
   "source": [
    "def undoItem():\n",
    "    print(f\"undo shopping\")\n",
    "    ahk.key_press(\"p\")\n",
    "    ahk.mouse_move(460, 560)\n",
    "    ahk.click()\n",
    "    ahk.key_press(\"p\")"
   ]
  },
  {
   "cell_type": "markdown",
   "metadata": {},
   "source": [
    "# 7. Handle voice command input"
   ]
  },
  {
   "cell_type": "code",
   "execution_count": 15,
   "metadata": {},
   "outputs": [],
   "source": [
    "def gameAction(boxes, text):\n",
    "        words = text.lower().split()\n",
    "        firstWord = words[0]\n",
    "        secondWord = words[1]\n",
    "        index = -1\n",
    "        item = \"\"\n",
    "        \n",
    "        gragasNames = [\"gragas\", \"grubas\"]\n",
    "        nunuNames = [\"yeti\", \"nunu\"]\n",
    "        commands =[\"strzel\", \"skocz\", \"lecz\", \"super\", \"podpal\", \"zwolnij\"]\n",
    "        \n",
    "        if secondWord in gragasNames:\n",
    "            index = 0\n",
    "        elif secondWord in nunuNames:\n",
    "            index = 1\n",
    "        else:\n",
    "            item = secondWord\n",
    "            \n",
    "        if firstWord == \"kup\":\n",
    "            buyItem(secondWord)\n",
    "        elif firstWord == \"cofnij\":\n",
    "            undoItem()\n",
    "        elif firstWord in commands and index != -1:\n",
    "            if firstWord == \"strzel\":\n",
    "                shotEnemy(boxes, index)\n",
    "            elif firstWord == \"skocz\":\n",
    "                jumpToAlly(boxes, index)\n",
    "            elif firstWord == \"lecz\":\n",
    "                healAlly()\n",
    "            elif firstWord == \"super\":\n",
    "                ultimateEnemy(boxes, index)\n",
    "            elif firstWord == \"podpal\"or firstWord == \"odpal\":\n",
    "                igniteEnemy(boxes, index)\n",
    "            elif firstWord == \"zwolnij\":\n",
    "                exhaustEnemy(boxes, index)\n",
    "        else:\n",
    "            print(\"Incorrect command!\")\n"
   ]
  },
  {
   "cell_type": "markdown",
   "metadata": {},
   "source": [
    "# 8. Get audio data from a user"
   ]
  },
  {
   "cell_type": "code",
   "execution_count": 16,
   "metadata": {},
   "outputs": [],
   "source": [
    "def recognize(boxes):\n",
    "    r = sr.Recognizer()\n",
    "    try:\n",
    "        with sr.Microphone() as source:\n",
    "            print(\"Listening....\")\n",
    "            audio = r.record(source, 2)\n",
    "            print(\"Recognizing....\")\n",
    "        text = r.recognize_google(audio, language=\"PL-pl\")\n",
    "        print(text)\n",
    "        gameAction(boxes, text)\n",
    "    except Exception as e:\n",
    "        print(e)\n",
    "    ahk.sound_beep(frequency=440, duration=500)\n",
    "    "
   ]
  },
  {
   "cell_type": "markdown",
   "metadata": {},
   "source": [
    "# 9. Main function"
   ]
  },
  {
   "cell_type": "code",
   "execution_count": 23,
   "metadata": {
    "scrolled": true
   },
   "outputs": [
    {
     "name": "stdout",
     "output_type": "stream",
     "text": [
      "Listening....\n",
      "Recognizing....\n",
      "strzel gragas\n",
      "shooting\n",
      "Listening....\n",
      "Recognizing....\n",
      "lecz Yeti\n",
      "healing\n",
      "Listening....\n",
      "Recognizing....\n",
      "Skocz\n",
      "list index out of range\n"
     ]
    }
   ],
   "source": [
    "while 1:\n",
    "    begin_time = time()\n",
    "    sct_img = sct.grab(mon)\n",
    "    img = Image.frombytes(\n",
    "        'RGB', (sct_img.size.width, sct_img.size.height), sct_img.rgb)\n",
    "    img_bgr = cv2.cvtColor(np.array(img), cv2.COLOR_RGB2BGR)\n",
    "    \n",
    "    input_tensor = tf.convert_to_tensor(np.expand_dims(img_bgr, 0), dtype=tf.float32)\n",
    "    detections = detect_fn(input_tensor)\n",
    "    \n",
    "    num_detections = int(detections.pop('num_detections'))\n",
    "    detections = {key: value[0, :num_detections].numpy()\n",
    "                  for key, value in detections.items()}\n",
    "    detections['num_detections'] = num_detections\n",
    "\n",
    "    detections['detection_classes'] = detections['detection_classes'].astype(np.int64)\n",
    "\n",
    "    label_id_offset = 1\n",
    "    image_np_with_detections = img_bgr.copy()\n",
    "\n",
    "    viz_utils.visualize_boxes_and_labels_on_image_array(\n",
    "                image_np_with_detections,\n",
    "                detections['detection_boxes'],\n",
    "                detections['detection_classes']+label_id_offset,\n",
    "                detections['detection_scores'],\n",
    "                category_index,\n",
    "                use_normalized_coordinates=True,\n",
    "                max_boxes_to_draw=5,\n",
    "                min_score_thresh=.8,\n",
    "                agnostic_mode=False)\n",
    "    \n",
    "    \n",
    "    boxes_array = detections['detection_boxes'][0:5]\n",
    "    classes_array = detections['detection_classes'][0:5]\n",
    "    \n",
    "    cv2.imshow('object detection',  cv2.resize(image_np_with_detections, (1280, 720)))\n",
    "    \n",
    "    key = ahk.key_state('Control')\n",
    "    \n",
    "    class Object(object):\n",
    "        pass\n",
    "    \n",
    "    if key:\n",
    "        ahk.sound_beep(frequency=440, duration=500)\n",
    "        objects_array = []\n",
    "        for i in range(0, len(boxes_array)):\n",
    "            exists = False\n",
    "            a = Object()\n",
    "            a.coordinates = boxes_array[i]\n",
    "            a.index = classes_array[i]\n",
    "            for j in objects_array:\n",
    "                if j.index == a.index:\n",
    "                    exists = True\n",
    "            if exists == False:\n",
    "                objects_array.append(a)\n",
    "\n",
    "        recognize(objects_array)\n",
    "        \n",
    "    if cv2.waitKey(1) & 0xFF == ord('p'):\n",
    "        cv2.destroyAllWindows()\n",
    "        break"
   ]
  },
  {
   "cell_type": "code",
   "execution_count": null,
   "metadata": {},
   "outputs": [],
   "source": []
  }
 ],
 "metadata": {
  "accelerator": "GPU",
  "colab": {
   "name": "3. Training and Detection.ipynb",
   "provenance": []
  },
  "kernelspec": {
   "display_name": "Python 3 (ipykernel)",
   "language": "python",
   "name": "python3"
  },
  "language_info": {
   "codemirror_mode": {
    "name": "ipython",
    "version": 3
   },
   "file_extension": ".py",
   "mimetype": "text/x-python",
   "name": "python",
   "nbconvert_exporter": "python",
   "pygments_lexer": "ipython3",
   "version": "3.10.6"
  },
  "vscode": {
   "interpreter": {
    "hash": "e72962695e62ca0052226d54d1d6dcb4f44fc7e521677359917dd6d97b37f159"
   }
  }
 },
 "nbformat": 4,
 "nbformat_minor": 1
}
